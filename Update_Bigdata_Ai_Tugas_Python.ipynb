{
  "nbformat": 4,
  "nbformat_minor": 0,
  "metadata": {
    "colab": {
      "provenance": []
    },
    "kernelspec": {
      "name": "python3",
      "display_name": "Python 3"
    }
  },
  "cells": [
    {
      "cell_type": "markdown",
      "metadata": {
        "id": "XO3gQm_1H2HP"
      },
      "source": [
        "### **Eksplorasi Data & Data Pre-processing**"
      ]
    },
    {
      "cell_type": "markdown",
      "metadata": {
        "id": "5E9x_3hSIAqa"
      },
      "source": [
        "**Eksplorasi Data: Data dengan Statistik**"
      ]
    },
    {
      "cell_type": "code",
      "metadata": {
        "id": "vAW1kB3vG41P",
        "outputId": "74d6a6ef-5d67-41ad-dfa4-df302949bf57",
        "colab": {
          "base_uri": "https://localhost:8080/",
          "height": 844
        }
      },
      "source": [
        "import pandas as pd\n",
        "dataset = pd.read_csv('https://dqlab-dataset.s3-ap-southeast-1.amazonaws.com/pythonTutorial/online_raw.csv')\n",
        "print(\"Shape dataset : \", dataset.shape)\n",
        "print('\\nLima data teratas')\n",
        "dataset.head()\n",
        "print('\\nInformasi dataset')\n",
        "dataset.info()\n",
        "print('Statistik deskriptif')\n",
        "dataset.describe()"
      ],
      "execution_count": null,
      "outputs": [
        {
          "output_type": "stream",
          "text": [
            "Shape dataset :  (12330, 18)\n",
            "\n",
            "Lima data teratas\n",
            "\n",
            "Informasi dataset\n",
            "<class 'pandas.core.frame.DataFrame'>\n",
            "RangeIndex: 12330 entries, 0 to 12329\n",
            "Data columns (total 18 columns):\n",
            " #   Column                   Non-Null Count  Dtype  \n",
            "---  ------                   --------------  -----  \n",
            " 0   Administrative           12316 non-null  float64\n",
            " 1   Administrative_Duration  12316 non-null  float64\n",
            " 2   Informational            12316 non-null  float64\n",
            " 3   Informational_Duration   12316 non-null  float64\n",
            " 4   ProductRelated           12316 non-null  float64\n",
            " 5   ProductRelated_Duration  12316 non-null  float64\n",
            " 6   BounceRates              12316 non-null  float64\n",
            " 7   ExitRates                12316 non-null  float64\n",
            " 8   PageValues               12330 non-null  float64\n",
            " 9   SpecialDay               12330 non-null  float64\n",
            " 10  Month                    12330 non-null  object \n",
            " 11  OperatingSystems         12330 non-null  int64  \n",
            " 12  Browser                  12330 non-null  int64  \n",
            " 13  Region                   12330 non-null  int64  \n",
            " 14  TrafficType              12330 non-null  int64  \n",
            " 15  VisitorType              12330 non-null  object \n",
            " 16  Weekend                  12330 non-null  bool   \n",
            " 17  Revenue                  12330 non-null  bool   \n",
            "dtypes: bool(2), float64(10), int64(4), object(2)\n",
            "memory usage: 1.5+ MB\n",
            "Statistik deskriptif\n"
          ],
          "name": "stdout"
        },
        {
          "output_type": "execute_result",
          "data": {
            "text/html": [
              "<div>\n",
              "<style scoped>\n",
              "    .dataframe tbody tr th:only-of-type {\n",
              "        vertical-align: middle;\n",
              "    }\n",
              "\n",
              "    .dataframe tbody tr th {\n",
              "        vertical-align: top;\n",
              "    }\n",
              "\n",
              "    .dataframe thead th {\n",
              "        text-align: right;\n",
              "    }\n",
              "</style>\n",
              "<table border=\"1\" class=\"dataframe\">\n",
              "  <thead>\n",
              "    <tr style=\"text-align: right;\">\n",
              "      <th></th>\n",
              "      <th>Administrative</th>\n",
              "      <th>Administrative_Duration</th>\n",
              "      <th>Informational</th>\n",
              "      <th>Informational_Duration</th>\n",
              "      <th>ProductRelated</th>\n",
              "      <th>ProductRelated_Duration</th>\n",
              "      <th>BounceRates</th>\n",
              "      <th>ExitRates</th>\n",
              "      <th>PageValues</th>\n",
              "      <th>SpecialDay</th>\n",
              "      <th>OperatingSystems</th>\n",
              "      <th>Browser</th>\n",
              "      <th>Region</th>\n",
              "      <th>TrafficType</th>\n",
              "    </tr>\n",
              "  </thead>\n",
              "  <tbody>\n",
              "    <tr>\n",
              "      <th>count</th>\n",
              "      <td>12316.000000</td>\n",
              "      <td>12316.000000</td>\n",
              "      <td>12316.000000</td>\n",
              "      <td>12316.000000</td>\n",
              "      <td>12316.000000</td>\n",
              "      <td>12316.000000</td>\n",
              "      <td>12316.000000</td>\n",
              "      <td>12316.000000</td>\n",
              "      <td>12330.000000</td>\n",
              "      <td>12330.000000</td>\n",
              "      <td>12330.000000</td>\n",
              "      <td>12330.000000</td>\n",
              "      <td>12330.000000</td>\n",
              "      <td>12330.000000</td>\n",
              "    </tr>\n",
              "    <tr>\n",
              "      <th>mean</th>\n",
              "      <td>2.317798</td>\n",
              "      <td>80.906176</td>\n",
              "      <td>0.503979</td>\n",
              "      <td>34.506387</td>\n",
              "      <td>31.763884</td>\n",
              "      <td>1196.037057</td>\n",
              "      <td>0.022152</td>\n",
              "      <td>0.043003</td>\n",
              "      <td>5.889258</td>\n",
              "      <td>0.061427</td>\n",
              "      <td>2.124006</td>\n",
              "      <td>2.357097</td>\n",
              "      <td>3.147364</td>\n",
              "      <td>4.069586</td>\n",
              "    </tr>\n",
              "    <tr>\n",
              "      <th>std</th>\n",
              "      <td>3.322754</td>\n",
              "      <td>176.860432</td>\n",
              "      <td>1.270701</td>\n",
              "      <td>140.825479</td>\n",
              "      <td>44.490339</td>\n",
              "      <td>1914.372511</td>\n",
              "      <td>0.048427</td>\n",
              "      <td>0.048527</td>\n",
              "      <td>18.568437</td>\n",
              "      <td>0.198917</td>\n",
              "      <td>0.911325</td>\n",
              "      <td>1.717277</td>\n",
              "      <td>2.401591</td>\n",
              "      <td>4.025169</td>\n",
              "    </tr>\n",
              "    <tr>\n",
              "      <th>min</th>\n",
              "      <td>0.000000</td>\n",
              "      <td>-1.000000</td>\n",
              "      <td>0.000000</td>\n",
              "      <td>-1.000000</td>\n",
              "      <td>0.000000</td>\n",
              "      <td>-1.000000</td>\n",
              "      <td>0.000000</td>\n",
              "      <td>0.000000</td>\n",
              "      <td>0.000000</td>\n",
              "      <td>0.000000</td>\n",
              "      <td>1.000000</td>\n",
              "      <td>1.000000</td>\n",
              "      <td>1.000000</td>\n",
              "      <td>1.000000</td>\n",
              "    </tr>\n",
              "    <tr>\n",
              "      <th>25%</th>\n",
              "      <td>0.000000</td>\n",
              "      <td>0.000000</td>\n",
              "      <td>0.000000</td>\n",
              "      <td>0.000000</td>\n",
              "      <td>7.000000</td>\n",
              "      <td>185.000000</td>\n",
              "      <td>0.000000</td>\n",
              "      <td>0.014286</td>\n",
              "      <td>0.000000</td>\n",
              "      <td>0.000000</td>\n",
              "      <td>2.000000</td>\n",
              "      <td>2.000000</td>\n",
              "      <td>1.000000</td>\n",
              "      <td>2.000000</td>\n",
              "    </tr>\n",
              "    <tr>\n",
              "      <th>50%</th>\n",
              "      <td>1.000000</td>\n",
              "      <td>8.000000</td>\n",
              "      <td>0.000000</td>\n",
              "      <td>0.000000</td>\n",
              "      <td>18.000000</td>\n",
              "      <td>599.766190</td>\n",
              "      <td>0.003119</td>\n",
              "      <td>0.025124</td>\n",
              "      <td>0.000000</td>\n",
              "      <td>0.000000</td>\n",
              "      <td>2.000000</td>\n",
              "      <td>2.000000</td>\n",
              "      <td>3.000000</td>\n",
              "      <td>2.000000</td>\n",
              "    </tr>\n",
              "    <tr>\n",
              "      <th>75%</th>\n",
              "      <td>4.000000</td>\n",
              "      <td>93.500000</td>\n",
              "      <td>0.000000</td>\n",
              "      <td>0.000000</td>\n",
              "      <td>38.000000</td>\n",
              "      <td>1466.479902</td>\n",
              "      <td>0.016684</td>\n",
              "      <td>0.050000</td>\n",
              "      <td>0.000000</td>\n",
              "      <td>0.000000</td>\n",
              "      <td>3.000000</td>\n",
              "      <td>2.000000</td>\n",
              "      <td>4.000000</td>\n",
              "      <td>4.000000</td>\n",
              "    </tr>\n",
              "    <tr>\n",
              "      <th>max</th>\n",
              "      <td>27.000000</td>\n",
              "      <td>3398.750000</td>\n",
              "      <td>24.000000</td>\n",
              "      <td>2549.375000</td>\n",
              "      <td>705.000000</td>\n",
              "      <td>63973.522230</td>\n",
              "      <td>0.200000</td>\n",
              "      <td>0.200000</td>\n",
              "      <td>361.763742</td>\n",
              "      <td>1.000000</td>\n",
              "      <td>8.000000</td>\n",
              "      <td>13.000000</td>\n",
              "      <td>9.000000</td>\n",
              "      <td>20.000000</td>\n",
              "    </tr>\n",
              "  </tbody>\n",
              "</table>\n",
              "</div>"
            ],
            "text/plain": [
              "       Administrative  Administrative_Duration  ...        Region   TrafficType\n",
              "count    12316.000000             12316.000000  ...  12330.000000  12330.000000\n",
              "mean         2.317798                80.906176  ...      3.147364      4.069586\n",
              "std          3.322754               176.860432  ...      2.401591      4.025169\n",
              "min          0.000000                -1.000000  ...      1.000000      1.000000\n",
              "25%          0.000000                 0.000000  ...      1.000000      2.000000\n",
              "50%          1.000000                 8.000000  ...      3.000000      2.000000\n",
              "75%          4.000000                93.500000  ...      4.000000      4.000000\n",
              "max         27.000000              3398.750000  ...      9.000000     20.000000\n",
              "\n",
              "[8 rows x 14 columns]"
            ]
          },
          "metadata": {
            "tags": []
          },
          "execution_count": 1
        }
      ]
    },
    {
      "cell_type": "code",
      "metadata": {
        "id": "acfF7FWyH0-f",
        "outputId": "b73b94b0-501c-40a9-de98-7a84c50414a5",
        "colab": {
          "base_uri": "https://localhost:8080/",
          "height": 527
        }
      },
      "source": [
        "dataset_corr = dataset.corr()\n",
        "print('Korelasi dataset:\\n', dataset.corr())\n",
        "print('Distribusi Label (Revenue):\\n', dataset['Revenue'].value_counts())\n",
        "# Tugas praktek\n",
        "print('\\nKorelasi BounceRates-ExitRates:', dataset_corr.loc['BounceRates', 'ExitRates'])\n",
        "print('\\nKorelasi Revenue-PageValues:', dataset_corr.loc['Revenue', 'PageValues'])\n",
        "print('\\nKorelasi TrafficType-Weekend:', dataset_corr.loc['TrafficType', 'Weekend'])"
      ],
      "execution_count": null,
      "outputs": [
        {
          "output_type": "stream",
          "text": [
            "Korelasi dataset:\n",
            "                          Administrative  ...   Revenue\n",
            "Administrative                 1.000000  ...  0.138631\n",
            "Administrative_Duration        0.601466  ...  0.093395\n",
            "Informational                  0.376782  ...  0.095085\n",
            "Informational_Duration         0.255757  ...  0.070250\n",
            "ProductRelated                 0.430832  ...  0.158280\n",
            "ProductRelated_Duration        0.373647  ...  0.152130\n",
            "BounceRates                   -0.223474  ... -0.150621\n",
            "ExitRates                     -0.316192  ... -0.206886\n",
            "PageValues                     0.098771  ...  0.492569\n",
            "SpecialDay                    -0.095054  ... -0.082305\n",
            "OperatingSystems              -0.006459  ... -0.014668\n",
            "Browser                       -0.025243  ...  0.023984\n",
            "Region                        -0.005680  ... -0.011595\n",
            "TrafficType                   -0.033748  ... -0.005113\n",
            "Weekend                        0.026404  ...  0.029295\n",
            "Revenue                        0.138631  ...  1.000000\n",
            "\n",
            "[16 rows x 16 columns]\n",
            "Distribusi Label (Revenue):\n",
            " False    10422\n",
            "True      1908\n",
            "Name: Revenue, dtype: int64\n",
            "\n",
            "Korelasi BounceRates-ExitRates: 0.9134364214595944\n",
            "\n",
            "Korelasi Revenue-PageValues: 0.49256929525114623\n",
            "\n",
            "Korelasi TrafficType-Weekend: -0.0022212292430307825\n"
          ],
          "name": "stdout"
        }
      ]
    },
    {
      "cell_type": "markdown",
      "metadata": {
        "id": "feCU68o2K5mJ"
      },
      "source": [
        "**Eksplorasi Data: Memahami Data dengan Visual**"
      ]
    },
    {
      "cell_type": "code",
      "metadata": {
        "id": "ImMxQFipH1A6",
        "outputId": "96052f08-5a04-415a-ae55-9576d32ee3f6",
        "colab": {
          "base_uri": "https://localhost:8080/",
          "height": 413
        }
      },
      "source": [
        "import matplotlib.pyplot as plt\n",
        "import seaborn as sns\n",
        "\n",
        "# checking the Distribution of customers on Revenue\n",
        "plt.rcParams['figure.figsize'] = (12,5)\n",
        "plt.subplot(1, 2, 1)\n",
        "sns.countplot(dataset['Revenue'], palette = 'pastel')\n",
        "plt.title('Buy or Not', fontsize = 20)\n",
        "plt.xlabel('Revenue or not', fontsize = 14)\n",
        "plt.ylabel('count', fontsize = 14)\n",
        "\n",
        "# checking the Distribution of customers on Weekend\n",
        "plt.subplot(1, 2, 2)\n",
        "sns.countplot(dataset['Weekend'], palette = 'inferno')\n",
        "plt.title('Purchase on Weekends', fontsize = 20)\n",
        "plt.xlabel('Weekend or not', fontsize = 14)\n",
        "plt.ylabel('Count', fontsize = 14)\n",
        "plt.show()"
      ],
      "execution_count": null,
      "outputs": [
        {
          "output_type": "stream",
          "text": [
            "/usr/local/lib/python3.6/dist-packages/statsmodels/tools/_testing.py:19: FutureWarning: pandas.util.testing is deprecated. Use the functions in the public API at pandas.testing instead.\n",
            "  import pandas.util.testing as tm\n"
          ],
          "name": "stderr"
        },
        {
          "output_type": "display_data",
          "data": {
            "image/png": "[encoded data removed]",
            "text/plain": [
              "<Figure size 864x360 with 2 Axes>"
            ]
          },
          "metadata": {
            "tags": [],
            "needs_background": "light"
          }
        }
      ]
    },
    {
      "cell_type": "code",
      "metadata": {
        "id": "t6MupUmnL5t3",
        "outputId": "3916f166-a33d-447f-e59b-9f76d7add340",
        "colab": {
          "base_uri": "https://localhost:8080/",
          "height": 359
        }
      },
      "source": [
        "import matplotlib.pyplot as plt\n",
        "\n",
        "# visualizing the distribution of customers around the Region\n",
        "plt.hist(dataset['Region'], color = 'lightblue')\n",
        "plt.title('Distribution of Customers' , fontsize = 20)\n",
        "plt.xlabel('Region Codes', fontsize = 14)\n",
        "plt.ylabel('Count Users', fontsize = 14)\n",
        "plt.show()"
      ],
      "execution_count": null,
      "outputs": [
        {
          "output_type": "display_data",
          "data": {
            "image/png": "[encoded data removed]",
            "text/plain": [
              "<Figure size 864x360 with 1 Axes>"
            ]
          },
          "metadata": {
            "tags": [],
            "needs_background": "light"
          }
        }
      ]
    },
    {
      "cell_type": "markdown",
      "metadata": {
        "id": "1fdA1qooPiC9"
      },
      "source": [
        "**Data Pre-processing: Handling Missing Value**"
      ]
    },
    {
      "cell_type": "code",
      "metadata": {
        "id": "D16-VDp9PkEO",
        "outputId": "594f097c-3c62-4d4b-feb7-ce611fe3e01d",
        "colab": {
          "base_uri": "https://localhost:8080/",
          "height": 408
        }
      },
      "source": [
        "#checking missing value for each feature\n",
        "print('Checking missing value for each feature:')\n",
        "print(dataset.isnull().sum())\n",
        "\n",
        "#Counting total missing value\n",
        "print('\\nCounting total missing value:')\n",
        "dataset.isnull().sum().sum()"
      ],
      "execution_count": null,
      "outputs": [
        {
          "output_type": "stream",
          "text": [
            "Checking missing value for each feature:\n",
            "Administrative             14\n",
            "Administrative_Duration    14\n",
            "Informational              14\n",
            "Informational_Duration     14\n",
            "ProductRelated             14\n",
            "ProductRelated_Duration    14\n",
            "BounceRates                14\n",
            "ExitRates                  14\n",
            "PageValues                  0\n",
            "SpecialDay                  0\n",
            "Month                       0\n",
            "OperatingSystems            0\n",
            "Browser                     0\n",
            "Region                      0\n",
            "TrafficType                 0\n",
            "VisitorType                 0\n",
            "Weekend                     0\n",
            "Revenue                     0\n",
            "dtype: int64\n",
            "\n",
            "Counting total missing value:\n"
          ],
          "name": "stdout"
        },
        {
          "output_type": "execute_result",
          "data": {
            "text/plain": [
              "112"
            ]
          },
          "metadata": {
            "tags": []
          },
          "execution_count": 7
        }
      ]
    },
    {
      "cell_type": "code",
      "metadata": {
        "id": "pwyxJlUEH1DX",
        "outputId": "3d29956f-81cd-4f61-935c-ee0a6c19599b",
        "colab": {
          "base_uri": "https://localhost:8080/",
          "height": 34
        }
      },
      "source": [
        "#Drop rows with missing value\n",
        "dataset_clean = dataset.dropna()\n",
        "print('Ukuran dataset_clean:', dataset_clean.shape)"
      ],
      "execution_count": null,
      "outputs": [
        {
          "output_type": "stream",
          "text": [
            "Ukuran dataset_clean: (12316, 18)\n"
          ],
          "name": "stdout"
        }
      ]
    },
    {
      "cell_type": "code",
      "metadata": {
        "id": "tm_CS4AUQJ74",
        "outputId": "42a31fc8-ad59-4d7a-c5e8-340daa117a32",
        "colab": {
          "base_uri": "https://localhost:8080/",
          "height": 748
        }
      },
      "source": [
        "print(\"Before imputation:\")\n",
        "# Checking missing value for each feature\n",
        "print(dataset.isnull().sum())\n",
        "# Counting total missing value\n",
        "print(dataset.isnull().sum().sum())\n",
        "\n",
        "print(\"\\nAfter imputation:\")\n",
        "# Fill missing value with mean of feature value\n",
        "dataset.fillna(dataset.mean(), inplace = True)\n",
        "# Checking missing value for each feature\n",
        "print(dataset.isnull().sum())\n",
        "# Counting total missing value\n",
        "print(dataset.isnull().sum().sum())"
      ],
      "execution_count": null,
      "outputs": [
        {
          "output_type": "stream",
          "text": [
            "Before imputation:\n",
            "Administrative             14\n",
            "Administrative_Duration    14\n",
            "Informational              14\n",
            "Informational_Duration     14\n",
            "ProductRelated             14\n",
            "ProductRelated_Duration    14\n",
            "BounceRates                14\n",
            "ExitRates                  14\n",
            "PageValues                  0\n",
            "SpecialDay                  0\n",
            "Month                       0\n",
            "OperatingSystems            0\n",
            "Browser                     0\n",
            "Region                      0\n",
            "TrafficType                 0\n",
            "VisitorType                 0\n",
            "Weekend                     0\n",
            "Revenue                     0\n",
            "dtype: int64\n",
            "112\n",
            "\n",
            "After imputation:\n",
            "Administrative             0\n",
            "Administrative_Duration    0\n",
            "Informational              0\n",
            "Informational_Duration     0\n",
            "ProductRelated             0\n",
            "ProductRelated_Duration    0\n",
            "BounceRates                0\n",
            "ExitRates                  0\n",
            "PageValues                 0\n",
            "SpecialDay                 0\n",
            "Month                      0\n",
            "OperatingSystems           0\n",
            "Browser                    0\n",
            "Region                     0\n",
            "TrafficType                0\n",
            "VisitorType                0\n",
            "Weekend                    0\n",
            "Revenue                    0\n",
            "dtype: int64\n",
            "0\n"
          ],
          "name": "stdout"
        }
      ]
    },
    {
      "cell_type": "code",
      "metadata": {
        "id": "q_aCGMM4H1Fx",
        "outputId": "0bd5f1ac-95cf-40b1-afef-74be2bd5328b",
        "colab": {
          "base_uri": "https://localhost:8080/",
          "height": 748
        }
      },
      "source": [
        "import pandas as pd\n",
        "dataset1 = pd.read_csv('https://dqlab-dataset.s3-ap-southeast-1.amazonaws.com/pythonTutorial/online_raw.csv')\n",
        "\n",
        "print(\"Before imputation:\")\n",
        "# Checking missing value for each feature\n",
        "print(dataset1.isnull().sum())\n",
        "# Counting total missing value\n",
        "print(dataset1.isnull().sum().sum())\n",
        "\n",
        "print(\"\\nAfter imputation:\")\n",
        "# Fill missing value with median of feature value\n",
        "dataset1.fillna(dataset1.median(), inplace = True)\n",
        "# Checking missing value for each feature\n",
        "print(dataset1.isnull().sum())\n",
        "# Counting total missing value\n",
        "print(dataset1.isnull().sum().sum())"
      ],
      "execution_count": null,
      "outputs": [
        {
          "output_type": "stream",
          "text": [
            "Before imputation:\n",
            "Administrative             14\n",
            "Administrative_Duration    14\n",
            "Informational              14\n",
            "Informational_Duration     14\n",
            "ProductRelated             14\n",
            "ProductRelated_Duration    14\n",
            "BounceRates                14\n",
            "ExitRates                  14\n",
            "PageValues                  0\n",
            "SpecialDay                  0\n",
            "Month                       0\n",
            "OperatingSystems            0\n",
            "Browser                     0\n",
            "Region                      0\n",
            "TrafficType                 0\n",
            "VisitorType                 0\n",
            "Weekend                     0\n",
            "Revenue                     0\n",
            "dtype: int64\n",
            "112\n",
            "\n",
            "After imputation:\n",
            "Administrative             0\n",
            "Administrative_Duration    0\n",
            "Informational              0\n",
            "Informational_Duration     0\n",
            "ProductRelated             0\n",
            "ProductRelated_Duration    0\n",
            "BounceRates                0\n",
            "ExitRates                  0\n",
            "PageValues                 0\n",
            "SpecialDay                 0\n",
            "Month                      0\n",
            "OperatingSystems           0\n",
            "Browser                    0\n",
            "Region                     0\n",
            "TrafficType                0\n",
            "VisitorType                0\n",
            "Weekend                    0\n",
            "Revenue                    0\n",
            "dtype: int64\n",
            "0\n"
          ],
          "name": "stdout"
        }
      ]
    },
    {
      "cell_type": "markdown",
      "metadata": {
        "id": "mq8ZENYfRRcV"
      },
      "source": [
        "**Data Preprocessing: Scaling**"
      ]
    },
    {
      "cell_type": "markdown",
      "metadata": {
        "id": "281NvOe9Ru_m"
      },
      "source": [
        "Beberapa machine learning seperti K-NN dan gradient descent mengharuskan semua variabel memiliki rentang nilai yang sama, karena jika tidak sama, feature dengan rentang nilai terbesar misalnya ProductRelated_Duration otomatis akan menjadi feature yang paling mendominasi dalam proses training/komputasi, sehingga model yang dihasilkan pun akan sangat bias. Oleh karena itu, sebelum memulai training model, kita terlebih dahulu perlu melakukan data rescaling ke dalam rentang 0 dan 1, sehingga semua feature berada dalam rentang nilai tersebut, yaitu nilai max = 1 dan nilai min = 0. Data rescaling ini dapat dilakukan di Python menggunakan .MinMaxScaler( ) dari Scikit-Learn library."
      ]
    },
    {
      "cell_type": "markdown",
      "metadata": {
        "id": "kwEZ-51xRXik"
      },
      "source": [
        "![image.png](data:image/png;base64,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)"
      ]
    },
    {
      "cell_type": "markdown",
      "metadata": {
        "id": "fl2DxrRaR1EE"
      },
      "source": [
        "dengan rumus ini, nilai max data akan menjadi 1 dan nilai min menjadi 0; dan nilai lainnya berada di rentang keduanya. Rumus ini tidak memungkinkan adanya rentang nilai selain 0 – 1."
      ]
    },
    {
      "cell_type": "code",
      "metadata": {
        "id": "MR_ACbTyH1IG",
        "outputId": "c9068c01-59fb-4870-b4b7-8453703db387",
        "colab": {
          "base_uri": "https://localhost:8080/",
          "height": 187
        }
      },
      "source": [
        "from sklearn.preprocessing import MinMaxScaler\n",
        "\n",
        "#Define MinMaxScaler as scaler\n",
        "scaler = MinMaxScaler()\n",
        "\n",
        "#list all the feature that need to be scaled\n",
        "scaling_column = ['Administrative','Administrative_Duration','Informational','Informational_Duration','ProductRelated','ProductRelated_Duration','BounceRates','ExitRates','PageValues']\n",
        "\n",
        "#Apply fit_transfrom to scale selected feature\n",
        "dataset[scaling_column] = scaler.fit_transform(dataset[scaling_column])\n",
        "\n",
        "#Cheking min and max value of the scaling_column\n",
        "print(dataset[scaling_column].describe().T[['min','max']])"
      ],
      "execution_count": null,
      "outputs": [
        {
          "output_type": "stream",
          "text": [
            "                         min  max\n",
            "Administrative           0.0  1.0\n",
            "Administrative_Duration  0.0  1.0\n",
            "Informational            0.0  1.0\n",
            "Informational_Duration   0.0  1.0\n",
            "ProductRelated           0.0  1.0\n",
            "ProductRelated_Duration  0.0  1.0\n",
            "BounceRates              0.0  1.0\n",
            "ExitRates                0.0  1.0\n",
            "PageValues               0.0  1.0\n"
          ],
          "name": "stdout"
        }
      ]
    },
    {
      "cell_type": "markdown",
      "metadata": {
        "id": "RtBKP7DmS3hs"
      },
      "source": [
        "**Data Pre-processing: Konversi string ke numerik**"
      ]
    },
    {
      "cell_type": "markdown",
      "metadata": {
        "id": "4j4ZNqRrS5By"
      },
      "source": [
        "Karena setiap algoritma machine learning bekerja dengan menggunakan nilai numeris, maka kita perlu mengubah kolom dengan tipe pandas object atau str ini ke bertipe numeris."
      ]
    },
    {
      "cell_type": "code",
      "metadata": {
        "id": "Ti4RWV-YH1KZ",
        "outputId": "2a059722-fe29-44eb-8a61-6368a14d2686",
        "colab": {
          "base_uri": "https://localhost:8080/",
          "height": 102
        }
      },
      "source": [
        "import numpy as np\n",
        "from sklearn.preprocessing import LabelEncoder\n",
        "\n",
        "# Convert feature/column 'Month'\n",
        "LE = LabelEncoder()\n",
        "dataset['Month'] = LE.fit_transform(dataset['Month'])\n",
        "print(LE.classes_)\n",
        "print(np.sort(dataset['Month'].unique()))\n",
        "print('')\n",
        "\n",
        "# Convert feature/column 'VisitorType'\n",
        "LE = LabelEncoder()\n",
        "dataset['VisitorType'] = LE.fit_transform(dataset['VisitorType'])\n",
        "print(LE.classes_)\n",
        "print(np.sort(dataset['VisitorType'].unique()))"
      ],
      "execution_count": null,
      "outputs": [
        {
          "output_type": "stream",
          "text": [
            "['Aug' 'Dec' 'Feb' 'Jul' 'June' 'Mar' 'May' 'Nov' 'Oct' 'Sep']\n",
            "[0 1 2 3 4 5 6 7 8 9]\n",
            "\n",
            "['New_Visitor' 'Other' 'Returning_Visitor']\n",
            "[0 1 2]\n"
          ],
          "name": "stdout"
        }
      ]
    },
    {
      "cell_type": "markdown",
      "metadata": {
        "id": "33KRgj_vTQ-x"
      },
      "source": [
        "### **Scikit-Learn**"
      ]
    },
    {
      "cell_type": "markdown",
      "metadata": {
        "id": "Bov1dd7MTaXp"
      },
      "source": [
        "**Features & Label**"
      ]
    },
    {
      "cell_type": "code",
      "metadata": {
        "id": "3T4idbCtH1M2",
        "outputId": "0f5e95c3-3175-441f-a1fc-206031717399",
        "colab": {
          "base_uri": "https://localhost:8080/",
          "height": 51
        }
      },
      "source": [
        "# removing the target column Revenue from dataset and assigning to X\n",
        "X = dataset.drop(['Revenue'], axis = 1)\n",
        "# assigning the target column Revenue to y\n",
        "y = dataset['Revenue']\n",
        "\n",
        "# checking the shapes\n",
        "print(\"Shape of X:\", X.shape)\n",
        "print(\"Shape of y:\", y.shape)"
      ],
      "execution_count": null,
      "outputs": [
        {
          "output_type": "stream",
          "text": [
            "Shape of X: (12330, 17)\n",
            "Shape of y: (12330,)\n"
          ],
          "name": "stdout"
        }
      ]
    },
    {
      "cell_type": "markdown",
      "metadata": {
        "id": "88uEhhpOTvE6"
      },
      "source": [
        "**Training dan Test Dataset**"
      ]
    },
    {
      "cell_type": "code",
      "metadata": {
        "id": "c9Tu_65BH1PD",
        "outputId": "247fbcbe-c4e4-4e2d-95ad-9475ec78dd8c",
        "colab": {
          "base_uri": "https://localhost:8080/",
          "height": 85
        }
      },
      "source": [
        "from sklearn.model_selection import train_test_split\n",
        "\n",
        "# splitting the X, and y\n",
        "X_train, X_test, y_train, y_test = train_test_split(X, y, test_size = 0.2, random_state = 0)\n",
        "\n",
        "# checking the shapes\n",
        "print(\"Shape of X_train :\", X_train.shape)\n",
        "print(\"Shape of y_train :\", y_train.shape)\n",
        "print(\"Shape of X_test :\", X_test.shape)\n",
        "print(\"Shape of y_test :\", y_test.shape)"
      ],
      "execution_count": null,
      "outputs": [
        {
          "output_type": "stream",
          "text": [
            "Shape of X_train : (9864, 17)\n",
            "Shape of y_train : (9864,)\n",
            "Shape of X_test : (2466, 17)\n",
            "Shape of y_test : (2466,)\n"
          ],
          "name": "stdout"
        }
      ]
    },
    {
      "cell_type": "markdown",
      "metadata": {
        "id": "RWZRm49FT5VC"
      },
      "source": [
        "**Training Model: Fit**"
      ]
    },
    {
      "cell_type": "code",
      "metadata": {
        "id": "Mrs20DpeH1Rg"
      },
      "source": [
        "from sklearn.tree import DecisionTreeClassifier\n",
        "\n",
        "# Call the classifier\n",
        "model = DecisionTreeClassifier()\n",
        "\n",
        "# Fit the classifier to the training data\n",
        "model = model.fit(X_train, y_train)"
      ],
      "execution_count": null,
      "outputs": []
    },
    {
      "cell_type": "markdown",
      "metadata": {
        "id": "-JYUFrRXUg5k"
      },
      "source": [
        "**Training Model: Predict**"
      ]
    },
    {
      "cell_type": "code",
      "metadata": {
        "id": "J7vYIf3xH1Tv",
        "outputId": "481d6772-2c09-4f61-817e-97e3e3140701",
        "colab": {
          "base_uri": "https://localhost:8080/",
          "height": 34
        }
      },
      "source": [
        "# Apply the classifier/model to the test data\n",
        "y_pred = model.predict(X_test)\n",
        "print(y_pred.shape)"
      ],
      "execution_count": null,
      "outputs": [
        {
          "output_type": "stream",
          "text": [
            "(2466,)\n"
          ],
          "name": "stdout"
        }
      ]
    },
    {
      "cell_type": "markdown",
      "metadata": {
        "id": "rIUwq1rQUyZd"
      },
      "source": [
        "**Evaluasi Model Performance**"
      ]
    },
    {
      "cell_type": "code",
      "metadata": {
        "id": "eN9KA_YyUz1x",
        "outputId": "07fb8971-54f7-4185-e775-6fe6a6b5e4e0",
        "colab": {
          "base_uri": "https://localhost:8080/",
          "height": 306
        }
      },
      "source": [
        "from sklearn.metrics import confusion_matrix, classification_report\n",
        "\n",
        "# evaluating the model\n",
        "print('Training Accuracy :', model.score(X_train, y_train))\n",
        "print('Testing Accuracy :', model.score(X_test, y_test))\n",
        "\n",
        "# confusion matrix\n",
        "print('\\nConfusion matrix:')\n",
        "cm = confusion_matrix(y_test, y_pred)\n",
        "print(cm)\n",
        "\n",
        "# classification report\n",
        "print('\\nClassification report:')\n",
        "cr = classification_report(y_test, y_pred)\n",
        "print(cr)"
      ],
      "execution_count": null,
      "outputs": [
        {
          "output_type": "stream",
          "text": [
            "Training Accuracy : 1.0\n",
            "Testing Accuracy : 0.8617193836171938\n",
            "\n",
            "Confusion matrix:\n",
            "[[1886  158]\n",
            " [ 183  239]]\n",
            "\n",
            "Classification report:\n",
            "              precision    recall  f1-score   support\n",
            "\n",
            "       False       0.91      0.92      0.92      2044\n",
            "        True       0.60      0.57      0.58       422\n",
            "\n",
            "    accuracy                           0.86      2466\n",
            "   macro avg       0.76      0.74      0.75      2466\n",
            "weighted avg       0.86      0.86      0.86      2466\n",
            "\n"
          ],
          "name": "stdout"
        }
      ]
    },
    {
      "cell_type": "markdown",
      "metadata": {
        "id": "EMf-yCsrV5IY"
      },
      "source": [
        "### **Supervised Learning**"
      ]
    },
    {
      "cell_type": "markdown",
      "metadata": {
        "id": "n3ITKPdUWCiD"
      },
      "source": [
        "**Logistic Regression**"
      ]
    },
    {
      "cell_type": "markdown",
      "metadata": {
        "id": "RO54sf30WDsn"
      },
      "source": [
        "Logistic Regression merupakan salah satu algoritma klasifikasi dasar yang cukup popular. Secara sederhana, Logistic regression hampir serupa dengan linear regression tetapi linear regression digunakan untuk Label atau Target Variable yang berupa numerik atau continuous value, sedangkan Logistic regression digunakan untuk Label atau Target yang berupa categorical/discrete value.\n",
        "\n",
        "Contoh continuous value adalah harga rumah, harga saham, suhu, dsb; dan contoh dari categorical value adalah prediksi SPAM or NOT SPAM (1 dan 0) atau prediksi customer SUBSCRIBE atau UNSUBSCRIBED (1 dan 0)."
      ]
    },
    {
      "cell_type": "markdown",
      "metadata": {
        "id": "nHeKSxJKWaXW"
      },
      "source": [
        "Pemodelan Logistic Regression dengan memanfaatkan Scikit-Learn menggunakan dataset yang sama yaitu online_raw, dan setelah dataset dibagi ke dalam Training Set dan Test Set, cukup menggunakan modul linear_model dari Scikit-learn, dan memanggil fungsi LogisticRegression() yang diberi nama logreg. Kemudian, model yang sudah ditraining ini  bisa digunakan untuk memprediksi output/label dari test dataset sekaligus mengevaluasi model performance dengan fungsi score(), confusion_matrix() dan classification_report()."
      ]
    },
    {
      "cell_type": "code",
      "metadata": {
        "id": "mr5vfVDJWa8S",
        "outputId": "0d42b3df-d5c9-419b-bf25-8d44f1f45f3c",
        "colab": {
          "base_uri": "https://localhost:8080/",
          "height": 442
        }
      },
      "source": [
        "from sklearn.linear_model import LogisticRegression\n",
        "from sklearn.metrics import confusion_matrix, classification_report\n",
        "\n",
        "# Call the classifier\n",
        "logreg = LogisticRegression()\n",
        "# Fit the classifier to the training data\n",
        "logreg = logreg.fit(X_train,y_train)\n",
        "#Training Model: Predict\n",
        "y_pred = logreg.predict(X_test)\n",
        "\n",
        "#Evaluate Model Performance\n",
        "print('Training Accuracy :', model.score(X_train, y_train))\n",
        "print('Testing Accuracy :', model.score(X_test, y_test))\n",
        "\n",
        "# confusion matrix\n",
        "print('\\nConfusion matrix')\n",
        "cm = confusion_matrix(y_test, y_pred)\n",
        "print(cm)\n",
        "\n",
        "# classification report\n",
        "print('\\nClassification report')\n",
        "cr = classification_report(y_test, y_pred)\n",
        "print(cr)"
      ],
      "execution_count": null,
      "outputs": [
        {
          "output_type": "stream",
          "text": [
            "Training Accuracy : 1.0\n",
            "Testing Accuracy : 0.8617193836171938\n",
            "\n",
            "Confusion matrix\n",
            "[[2010   34]\n",
            " [ 316  106]]\n",
            "\n",
            "Classification report\n",
            "              precision    recall  f1-score   support\n",
            "\n",
            "       False       0.86      0.98      0.92      2044\n",
            "        True       0.76      0.25      0.38       422\n",
            "\n",
            "    accuracy                           0.86      2466\n",
            "   macro avg       0.81      0.62      0.65      2466\n",
            "weighted avg       0.85      0.86      0.83      2466\n",
            "\n"
          ],
          "name": "stdout"
        },
        {
          "output_type": "stream",
          "text": [
            "/usr/local/lib/python3.6/dist-packages/sklearn/linear_model/_logistic.py:940: ConvergenceWarning: lbfgs failed to converge (status=1):\n",
            "STOP: TOTAL NO. of ITERATIONS REACHED LIMIT.\n",
            "\n",
            "Increase the number of iterations (max_iter) or scale the data as shown in:\n",
            "    https://scikit-learn.org/stable/modules/preprocessing.html\n",
            "Please also refer to the documentation for alternative solver options:\n",
            "    https://scikit-learn.org/stable/modules/linear_model.html#logistic-regression\n",
            "  extra_warning_msg=_LOGISTIC_SOLVER_CONVERGENCE_MSG)\n"
          ],
          "name": "stderr"
        }
      ]
    },
    {
      "cell_type": "markdown",
      "metadata": {
        "id": "0FFDpL4dWntr"
      },
      "source": [
        "**Decision Tree**"
      ]
    },
    {
      "cell_type": "markdown",
      "metadata": {
        "id": "a6LWD7MTWoQX"
      },
      "source": [
        "Decision Tree merupakan salah satu metode klasifikasi yang populer dan banyak diimplementasikan serta mudah diinterpretasi. Decision tree adalah model prediksi dengan struktur pohon atau struktur berhierarki. Decision Tree dapat digunakan untuk classification problem dan regression problem."
      ]
    },
    {
      "cell_type": "markdown",
      "metadata": {
        "id": "VSBn5rQ0WtKT"
      },
      "source": [
        "Decision tree terdiri dari :\n",
        "\n",
        "1.   Decision Node yang merupakan feature/input variabel;\n",
        "2.   Branch yang ditunjukkan oleh garis hitam berpanah, yang adalah rule/aturan keputusan, dan\n",
        "3. Leaf yang merupakan output/hasil."
      ]
    },
    {
      "cell_type": "code",
      "metadata": {
        "id": "j7YYxNyfH1WL",
        "outputId": "2ad5ae8b-dd60-4f67-cd14-32f7be13c6c0",
        "colab": {
          "base_uri": "https://localhost:8080/",
          "height": 51
        }
      },
      "source": [
        "from sklearn.model_selection import train_test_split\n",
        "from sklearn.tree import DecisionTreeClassifier\n",
        "\n",
        "# splitting the data\n",
        "X_train, X_test, y_train, y_test = train_test_split(X, y, test_size = 0.3, random_state = 0)\n",
        "\n",
        "# Call the classifier\n",
        "decision_tree = DecisionTreeClassifier()\n",
        "# Fit the classifier to the training data\n",
        "decision_tree = decision_tree.fit(X_train,y_train)\n",
        "\n",
        "# evaluating the decision_tree performance\n",
        "print('Training Accuracy :', decision_tree.score(X_train, y_train))\n",
        "print('Testing Accuracy :', decision_tree.score(X_test, y_test))"
      ],
      "execution_count": null,
      "outputs": [
        {
          "output_type": "stream",
          "text": [
            "Training Accuracy : 1.0\n",
            "Testing Accuracy : 0.8634766153014328\n"
          ],
          "name": "stdout"
        }
      ]
    },
    {
      "cell_type": "markdown",
      "metadata": {
        "id": "h_H_XwgpXRQl"
      },
      "source": [
        "**Linear Regression**"
      ]
    },
    {
      "cell_type": "markdown",
      "metadata": {
        "id": "FnOTjsQVXSAX"
      },
      "source": [
        "Regresi digunakan untuk memprediksi output label yang berbentuk numerik atau continuous value. Dalam proses training, model regresi akan menggunakan variabel input (features) dan variabel output (label) untuk mempelajari bagaimana hubungan/pola dari variabel input dan output."
      ]
    },
    {
      "cell_type": "markdown",
      "metadata": {
        "id": "jl3GjRA0XWI1"
      },
      "source": [
        "Model regresi terdiri atas 2 tipe yaitu :\n",
        "\n",
        "1. Simple regression model → model regresi paling sederhana, hanya terdiri dari satu feature (univariate) dan 1 target.\n",
        "2. Multiple regression model → sesuai namanya, terdiri dari lebih dari satu feature (multivariate)."
      ]
    },
    {
      "cell_type": "markdown",
      "metadata": {
        "id": "TfehylY6Xjxj"
      },
      "source": [
        "Linear regression digunakan untuk menganalisis hubungan linear antara dependent variabel (feature) dan independent variabel (label). Hubungan linear disini berarti bahwa jika nilai dari independen variabel mengalami perubahan baik itu naik atau turun, maka nilai dari dependen variabel juga mengalami perubahan (naik atau turun)."
      ]
    },
    {
      "cell_type": "markdown",
      "metadata": {
        "id": "2qX-l7AkX5x9"
      },
      "source": [
        "**from sklearn.linear_model import LinearRegression**"
      ]
    },
    {
      "cell_type": "code",
      "metadata": {
        "id": "64f6S5sSYDfL",
        "outputId": "f2dd6249-25a0-4976-c0d4-91fcf6c4698c",
        "colab": {
          "base_uri": "https://localhost:8080/",
          "height": 119
        }
      },
      "source": [
        "#load dataset\n",
        "import pandas as pd\n",
        "housing = pd.read_csv('https://dqlab-dataset.s3-ap-southeast-1.amazonaws.com/pythonTutorial/housing_boston.csv')\n",
        "\n",
        "#Data rescaling\n",
        "from sklearn import preprocessing\n",
        "data_scaler = preprocessing.MinMaxScaler(feature_range=(0,1))\n",
        "housing[['RM','LSTAT','PTRATIO','MEDV']] = data_scaler.fit_transform(housing[['RM','LSTAT','PTRATIO','MEDV']])\n",
        "\n",
        "# getting dependent and independent variables\n",
        "X = housing.drop(['MEDV'], axis = 1)\n",
        "y = housing['MEDV']\n",
        "\n",
        "# checking the shapes\n",
        "print('Shape of X:', X.shape)\n",
        "print('Shape of y:', y.shape)\n",
        "\n",
        "# splitting the data\n",
        "from sklearn.model_selection import train_test_split\n",
        "X_train, X_test, y_train, y_test = train_test_split(X, y, test_size = 0.3, random_state = 0)\n",
        "\n",
        "# checking the shapes\n",
        "print('Shape of X_train :', X_train.shape)\n",
        "print('Shape of y_train :', y_train.shape)\n",
        "print('Shape of X_test :', X_test.shape)\n",
        "print('Shape of y_test :', y_test.shape)\n",
        "\n",
        "#import regressor from Scikit-Learn\n",
        "from sklearn.linear_model import LinearRegression\n",
        "\n",
        "# Call the regressor\n",
        "reg = LinearRegression()\n",
        "\n",
        "# Fit the regressor to the training data\n",
        "reg = reg.fit(X_train,y_train)\n",
        "\n",
        "# Apply the regressor/model to the test data\n",
        "y_pred = reg.predict(X_test)"
      ],
      "execution_count": null,
      "outputs": [
        {
          "output_type": "stream",
          "text": [
            "Shape of X: (489, 3)\n",
            "Shape of y: (489,)\n",
            "Shape of X_train : (342, 3)\n",
            "Shape of y_train : (342,)\n",
            "Shape of X_test : (147, 3)\n",
            "Shape of y_test : (147,)\n"
          ],
          "name": "stdout"
        }
      ]
    },
    {
      "cell_type": "markdown",
      "metadata": {
        "id": "e7PLOkTWYsra"
      },
      "source": [
        "**Regression Performance Evaluation**"
      ]
    },
    {
      "cell_type": "markdown",
      "metadata": {
        "id": "Uxsmk9q9Y162"
      },
      "source": [
        "Untuk model regression, kita menghitung selisih antara nilai aktual (y_test) dan nilai prediksi (y_pred) yang disebut error"
      ]
    },
    {
      "cell_type": "markdown",
      "metadata": {
        "id": "qU8WO3vNZLDe"
      },
      "source": [
        "Semakin kecil nilai MSE, RMSE, dan MAE, semakin baik pula performansi model regresi. Untuk menghitung nilai MSE, RMSE dan MAE dapat dilakukan dengan menggunakan fungsi mean_squared_error () ,  mean_absolute_error () dari scikit-learn.metrics dan untuk RMSE sendiri tidak terdapat fungsi khusus di scikit-learn tapi dapat dengan mudah kita hitung dengan terlebih dahulu menghitung MSE kemudian menggunakan numpy module yaitu, sqrt() untuk memperoleh nilai akar kuadrat dari MSE."
      ]
    },
    {
      "cell_type": "code",
      "metadata": {
        "id": "u5zqkoTQY1Y0",
        "outputId": "9cb82741-aecb-4c2a-952c-df52c5f2a3cb",
        "colab": {
          "base_uri": "https://localhost:8080/",
          "height": 401
        }
      },
      "source": [
        "from sklearn.metrics import mean_squared_error, mean_absolute_error\n",
        "import numpy as np\n",
        "import matplotlib.pyplot as plt\n",
        "\n",
        "#Calculating MSE, lower the value better it is. 0 means perfect prediction\n",
        "mse = mean_squared_error(y_test, y_pred)\n",
        "print('Mean squared error of testing set:', mse)\n",
        "\n",
        "#Calculating MAE\n",
        "mae = mean_absolute_error(y_test, y_pred)\n",
        "print('Mean absolute error of testing set:', mae)\n",
        "rmse = np.sqrt(mse)\n",
        "print('Root Mean Squared Error of testing set:', rmse)\n",
        "\n",
        "#Plotting y_test dan y_pred\n",
        "plt.scatter(y_test, y_pred, c = 'green')\n",
        "plt.xlabel('Price Actual')\n",
        "plt.ylabel('Predicted value')\n",
        "plt.title('True value vs predicted value : Linear Regression')\n",
        "plt.show()"
      ],
      "execution_count": null,
      "outputs": [
        {
          "output_type": "stream",
          "text": [
            "Mean squared error of testing set: 0.010913024655841009\n",
            "Mean absolute error of testing set: 0.07789896103120689\n",
            "Root Mean Squared Error of testing set: 0.1044654232549747\n"
          ],
          "name": "stdout"
        },
        {
          "output_type": "display_data",
          "data": {
            "image/png": "[encoded data removed]",
            "text/plain": [
              "<Figure size 864x360 with 1 Axes>"
            ]
          },
          "metadata": {
            "tags": [],
            "needs_background": "light"
          }
        }
      ]
    }
  ]
}
